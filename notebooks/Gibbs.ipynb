{
 "cells": [
  {
   "cell_type": "code",
   "execution_count": 25,
   "metadata": {},
   "outputs": [],
   "source": [
    "import pickle\n",
    "import random\n",
    "import copy\n",
    "import numpy\n",
    "import pandas as pd\n",
    "alphabet = ['A', 'G', 'C', 'T']"
   ]
  },
  {
   "cell_type": "code",
   "execution_count": 26,
   "metadata": {},
   "outputs": [],
   "source": [
    "def GibbsSampler(S,L):\n",
    "\n",
    "    PWM = []\n",
    "    Background = [0.25, 0.25, 0.25, 0.25] #matrix of background frequencies\n",
    "    for i in range(len(alphabet)):\n",
    "        PWM.append([0]*L)\n",
    "\n",
    "    a = [] #initialize matrix of random motif starting positions\n",
    "    for i in S:\n",
    "        a.append(random.randint(0,len(i)-L))\n",
    "\n",
    "    PWM = recalculatePWM(S,a,PWM,L) #initialize PWM according to random positions in a\n",
    "\n",
    "    finish = False\n",
    "    count=0\n",
    "    while (finish==False):\n",
    "        removeind = random.randint(0,len(S)-1)\n",
    "        x = S.pop(removeind)\n",
    "        oldA = a.pop(removeind) #randomly select a sequence to remove from x (and correspondingly remove entry in a)\n",
    "\n",
    "        oldPWM = copy.deepcopy(PWM)\n",
    "        PWM = recalculatePWM(S, a, PWM, L) #reculate PWM for the remaining sequences\n",
    "\n",
    "        #generate matrix of scores for each possible starting point in sequence x\n",
    "        Z_ij = []\n",
    "        totalscore = 0\n",
    "        for i in range(len(x)-L):\n",
    "            num=1\n",
    "            denom=1\n",
    "            for j in range(L):\n",
    "                if(x[i+j]=='A'):\n",
    "                    num*=PWM[0][j]\n",
    "                    denom*=Background[0]\n",
    "                if (x[i + j] == 'G'):\n",
    "                    num *= PWM[1][j]\n",
    "                    denom *= Background[1]\n",
    "                if (x[i + j] == 'C'):\n",
    "                    num *= PWM[2][j]\n",
    "                    denom *= Background[2]\n",
    "                if (x[i + j] == 'T'):\n",
    "                    num *= PWM[3][j]\n",
    "                    denom *= Background[3]\n",
    "            Z_ij.append(num/denom)\n",
    "            totalscore += num/denom\n",
    "\n",
    "        #normalize the entries in Z_ij by dividing by the total score so that Z_ij becomes a probability distribution for starting positions in x\n",
    "        for i in range(len(Z_ij)):\n",
    "            Z_ij[i] = Z_ij[i]/totalscore\n",
    "\n",
    "        newA = (numpy.random.choice(len(x)-L, p=Z_ij)) #randomly select a new starting position for x based on normalized probabilities in Z_ij\n",
    "        a.append(newA)\n",
    "        S.append(x)\n",
    "\n",
    "        #check for convergence\n",
    "        change = 0\n",
    "        for i in range(len(PWM)):\n",
    "            for j in range(len(alphabet)):\n",
    "                if(change<abs(oldPWM[j][i] - PWM[j][i])):\n",
    "                    change = abs(oldPWM[j][i] - PWM[j][i])\n",
    "\n",
    "        #Termination condition: run for 100 loops\n",
    "        #if(count==100):\n",
    "        if(change<0.001):\n",
    "            finish = True\n",
    "\n",
    "        count+=1\n",
    "\n",
    "    return PWM"
   ]
  },
  {
   "cell_type": "code",
   "execution_count": 27,
   "metadata": {},
   "outputs": [],
   "source": [
    "#update the PWM using the starting positions stored in a\n",
    "def recalculatePWM(S, a, PWM, L):\n",
    "    for i in range(L):\n",
    "        Acount = 0.1 #initialize with pseudocounts\n",
    "        Tcount = 0.1\n",
    "        Gcount = 0.1\n",
    "        Ccount = 0.1\n",
    "        for j in range(len(S)):\n",
    "            if (S[j][a[j] + i]) == 'A':\n",
    "                Acount += 1\n",
    "            if (S[j][a[j] + i]) == 'T':\n",
    "                Tcount += 1\n",
    "            if (S[j][a[j] + i]) == 'G':\n",
    "                Gcount += 1\n",
    "            if (S[j][a[j] + i]) == 'C':\n",
    "                Ccount += 1\n",
    "\n",
    "        d = (Acount+Tcount+Gcount+Ccount)\n",
    "\n",
    "        #normalize counts by length of the sequence\n",
    "        PWM[0][i] = Acount / (d)\n",
    "        PWM[1][i] = Gcount / d\n",
    "        PWM[2][i] = Ccount / d\n",
    "        PWM[3][i] = Tcount / d\n",
    "\n",
    "    return PWM"
   ]
  },
  {
   "cell_type": "code",
   "execution_count": 22,
   "metadata": {},
   "outputs": [],
   "source": [
    "#read data\n",
    "    with open(\"hot_seq.pickle\",\"rb\") as fp:\n",
    "        hotspots = pickle.load(fp)\n",
    "    S = []\n",
    "    for entry in hotspots:\n",
    "        S.append(entry[:, :4])"
   ]
  },
  {
   "cell_type": "code",
   "execution_count": 36,
   "metadata": {},
   "outputs": [
    {
     "data": {
      "text/plain": [
       "array([[0., 0., 1., 0.],\n",
       "       [0., 1., 0., 0.],\n",
       "       [0., 1., 0., 0.],\n",
       "       ...,\n",
       "       [1., 0., 0., 0.],\n",
       "       [0., 0., 0., 1.],\n",
       "       [1., 0., 0., 0.]])"
      ]
     },
     "execution_count": 36,
     "metadata": {},
     "output_type": "execute_result"
    }
   ],
   "source": [
    "np.asarray(S[0])"
   ]
  },
  {
   "cell_type": "code",
   "execution_count": 23,
   "metadata": {},
   "outputs": [],
   "source": [
    "#convert back from one hot encoding\n",
    "sequences = []\n",
    "for entry in S:\n",
    "    temp = \"\"\n",
    "    for row in entry:\n",
    "        if row[0]==1:\n",
    "            temp+=\"A\"\n",
    "        elif row[1]==1:\n",
    "            temp+=\"C\"\n",
    "        elif row[2] ==1:\n",
    "            temp+=\"G\"\n",
    "        else:\n",
    "            temp+=\"T\"\n",
    "    sequences.append(temp)"
   ]
  },
  {
   "cell_type": "code",
   "execution_count": 28,
   "metadata": {},
   "outputs": [],
   "source": [
    "def percent_id (seq):\n",
    "    motif = \"CCNCCNTNNCCNC\"\n",
    "    count=0.0\n",
    "    for i in range(len(seq)):\n",
    "        if motif[i]==\"N\":\n",
    "            count+=1\n",
    "        elif motif[i]==seq[i]:\n",
    "            count+=1\n",
    "    percent = count/13\n",
    "    return percent "
   ]
  },
  {
   "cell_type": "code",
   "execution_count": 29,
   "metadata": {},
   "outputs": [],
   "source": [
    "def GibbsT(lengthMotif, numIterations, numSeq):  \n",
    "    bases = {0:'A',1:'G',2:'C',3:'T'}\n",
    "    motifs = []\n",
    "    percentid = []\n",
    "    for i in range(numIterations):\n",
    "        P = GibbsSampler(sequences[0:numSeq],lengthMotif)\n",
    "        motif = \"\"\n",
    "        for i in range(lengthMotif):\n",
    "            maxi = 0\n",
    "            for j in range(4):\n",
    "                if (P[maxi][i] < P[j][i]): maxi = j\n",
    "            motif += bases[maxi]\n",
    "        motifs.append(motif)\n",
    "        percentid.append(percent_id(motif))\n",
    "    return motifs, percentid"
   ]
  },
  {
   "cell_type": "code",
   "execution_count": 30,
   "metadata": {
    "scrolled": false
   },
   "outputs": [],
   "source": [
    "#length of motif, number of iterations, number of sequences from hotspot list to search over\n",
    "motifs, percents = GibbsT(13,10000,24) "
   ]
  },
  {
   "cell_type": "markdown",
   "metadata": {},
   "source": [
    "degenerate motif represented in 40% hotspots: CCNCCNTNNCCNC"
   ]
  },
  {
   "cell_type": "code",
   "execution_count": 31,
   "metadata": {},
   "outputs": [],
   "source": [
    "import pickle\n",
    "with open(\"foundpercent_ids.txt\", \"wb\") as fp: \n",
    "    pickle.dump(percents, fp)\n",
    "with open(\"foundallmotifs.txt\", \"wb\") as fp: \n",
    "    pickle.dump(motifs, fp)"
   ]
  },
  {
   "cell_type": "code",
   "execution_count": 32,
   "metadata": {},
   "outputs": [],
   "source": [
    "keys = {}\n",
    "keys[\"NNNNNNNNNN\"] = [0,0] #number of hits, percent id\n",
    "\n",
    "for k in range(len(motifs)):\n",
    "     #store motif in dictionary\n",
    "    motif = motifs[k]\n",
    "    if motif in keys:\n",
    "        value = keys.get(motif)\n",
    "        keys[motif] = [value[0] + 1, value[1]]  # increment number of hits\n",
    "    else:\n",
    "        keys[motif]= [0, percents[k]]"
   ]
  },
  {
   "cell_type": "code",
   "execution_count": 7,
   "metadata": {},
   "outputs": [],
   "source": [
    "import pickle\n",
    "with open(\"allmotifs.txt\", \"rb\") as fp:\n",
    "         motifs = pickle.load(fp)\n",
    "with open(\"percent_ids.txt\", \"rb\") as fp:\n",
    "         percents = pickle.load(fp)"
   ]
  },
  {
   "cell_type": "code",
   "execution_count": 33,
   "metadata": {},
   "outputs": [
    {
     "name": "stdout",
     "output_type": "stream",
     "text": [
      "AAAAGGGAAAGAA [1, 0.38461538461538464]\n",
      "AGGAGGGGAGGGA [1, 0.38461538461538464]\n",
      "GGGAAGGAGAGAG [1, 0.38461538461538464]\n",
      "AAAAAGGGAAAAG [1, 0.38461538461538464]\n",
      "CAGAATCTTTCTA [1, 0.5384615384615384]\n",
      "GCAAAGATGAAAA [1, 0.46153846153846156]\n",
      "GAAAGAGAAAAAG [1, 0.38461538461538464]\n",
      "AAGGAAGAGATGG [1, 0.38461538461538464]\n",
      "CAGGGGGAAAAGG [1, 0.46153846153846156]\n",
      "TGGGGGGGAGGGA [1, 0.38461538461538464]\n",
      "GGAGGGAGAGAGG [1, 0.38461538461538464]\n"
     ]
    }
   ],
   "source": [
    "\n",
    "for i in range(11):\n",
    "    mostfreq = \"NNNNNNNNNN\"\n",
    "    for j in keys:\n",
    "        if(keys[j][0]>keys[mostfreq][0]):\n",
    "            mostfreq = j\n",
    "    print(mostfreq, keys[mostfreq])\n",
    "    del(keys[mostfreq])"
   ]
  },
  {
   "cell_type": "code",
   "execution_count": null,
   "metadata": {},
   "outputs": [],
   "source": []
  }
 ],
 "metadata": {
  "kernelspec": {
   "display_name": "Python 3.6 (cf-tensorflow-keras)",
   "language": "python",
   "name": "cf"
  }
 },
 "nbformat": 4,
 "nbformat_minor": 2
}
