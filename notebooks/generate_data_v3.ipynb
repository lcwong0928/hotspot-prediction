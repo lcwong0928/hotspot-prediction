{
 "cells": [
  {
   "cell_type": "code",
   "execution_count": 1,
   "metadata": {},
   "outputs": [],
   "source": [
    "from matplotlib import pyplot as plt\n",
    "import numpy as np\n",
    "import statsmodels.api as sm\n",
    "from scipy import stats\n",
    "import scipy\n",
    "import csv\n",
    "import pandas as pd\n",
    "import math\n",
    "import statsmodels\n",
    "import itertools\n",
    "import seaborn as sns\n",
    "import random\n",
    "import os\n",
    "from textwrap import wrap\n",
    "import pickle\n",
    "import gzip\n",
    "import random\n",
    "from time import sleep\n",
    "import sys"
   ]
  },
  {
   "cell_type": "code",
   "execution_count": 3,
   "metadata": {},
   "outputs": [],
   "source": [
    "E032_DNase = pd.read_csv('data/E032/E032-DNase.tagAlign.gz', sep='\\t', header=None)\n",
    "E032_H3K4me3 = pd.read_csv('data/E032/E032-H3K4me3.tagAlign.gz', sep='\\t', header=None)\n",
    "E032_H3K36me3 = pd.read_csv('data/E032/E032-H3K36me3.tagAlign.gz', sep='\\t', header=None)\n",
    "chromatin_marks = [E032_H3K4me3, E032_H3K36me3]\n",
    "dnase = [E032_DNase]"
   ]
  },
  {
   "cell_type": "code",
   "execution_count": 4,
   "metadata": {},
   "outputs": [],
   "source": [
    "def drawProgressBar(percent, barLen = 20):\n",
    "    # percent float from 0 to 1. \n",
    "    sys.stdout.write(\"\\r\")\n",
    "    sys.stdout.write(\"[{:<{}}] {:.0f}%\".format(\"=\" * int(barLen * percent), barLen, percent * 100))\n",
    "    sys.stdout.flush()"
   ]
  },
  {
   "cell_type": "code",
   "execution_count": 5,
   "metadata": {},
   "outputs": [],
   "source": [
    "def make_spot(chromosome, threshold_hot=35, threshold_cold=0.0014):\n",
    "    rates = pd.read_csv('data/rates/genetic_map_GRCh37_{}.txt'.format(chromosome), sep='\\t')\n",
    "    rates['hotspot'] = [0 if i < threshold_hot else 1 for i in rates['Rate(cM/Mb)']]\n",
    "\n",
    "    hotspots = []\n",
    "    for index, row in rates[rates['Rate(cM/Mb)']>=threshold_hot].iterrows():\n",
    "        center = row['Position(bp)']\n",
    "        start = center - 500\n",
    "        end = center + 500\n",
    "        width = 1\n",
    "        hotspots.append([chromosome, center, start, end, width])\n",
    "    \n",
    "    coldspots = []\n",
    "    for index, row in rates[rates['Rate(cM/Mb)']<=threshold_cold].iterrows():\n",
    "        center = row['Position(bp)']\n",
    "        start = center - 500\n",
    "        end = center + 500\n",
    "        width = 1\n",
    "        coldspots.append([chromosome, center, start, end, width])\n",
    "        \n",
    "    header = ['Chromosome', 'Centre', 'Start', 'End', 'Width(kb) ']\n",
    "    hotspots = pd.DataFrame(hotspots,columns=header)\n",
    "    coldspots = pd.DataFrame(coldspots,columns=header)\n",
    "    return hotspots, coldspots"
   ]
  },
  {
   "cell_type": "code",
   "execution_count": 6,
   "metadata": {},
   "outputs": [],
   "source": [
    "def flatten(data, start, end):\n",
    "    df = data[(start <= data[1]) & (data[2] <= end)]\n",
    "    out = [0 for i in range(start, end)]\n",
    "    for index, row in df.iterrows():\n",
    "        for i in range(row[1]-start, row[2]-start):\n",
    "            if i < len(out):\n",
    "                out[i] = 1\n",
    "    return out\n",
    "\n",
    "def get_sequence(chromosome):\n",
    "    rawseq = open('data/chromosome/'+ chromosome + '.fa','r')\n",
    "    seq = rawseq.read()\n",
    "    seq = seq.replace(\"\\n\", \"\")\n",
    "    seq = seq[len(chromosome) + 1:]\n",
    "    return seq\n",
    "\n",
    "def get_nucleotides(seq, start, end):\n",
    "    convert = {'g':'G', 'a':'A', 't':'T', 'c': 'C', 'n':'N', '>':'N'}\n",
    "    nucleotides = [convert[seq[i]] if seq[i] in convert else seq[i] for i in range(start, end)]\n",
    "    return nucleotides\n",
    "\n",
    "def divide_chunks(l, n): \n",
    "    for i in range(0, len(l), n):  \n",
    "        yield l[i:i + n] \n",
    "\n",
    "def one_hot_encode(seq):\n",
    "    mapping = dict(zip(\"ACGT\", range(4)))    \n",
    "    seq2 = [mapping[i] for i in seq]\n",
    "    return np.eye(4)[seq2]"
   ]
  },
  {
   "cell_type": "code",
   "execution_count": 7,
   "metadata": {},
   "outputs": [],
   "source": [
    "def get_data(chromosome, hotspots, chromatin_marks, dnase):\n",
    "    data = []\n",
    "    hotspots = hotspots[hotspots['Chromosome'] == chromosome]\n",
    "    chromatin_marks = [mark[(mark[0]==chromosome) & (mark[5]=='+')] for mark in chromatin_marks]\n",
    "    dnase = [dna[(dna[0]==chromosome) & (dna[5]=='+')] for dna in dnase]\n",
    "    seq = get_sequence(chromosome)\n",
    "    snps = pd.read_csv('data/snp/bed_{}_{}.bed.gz'.format(chromosome[:3], chromosome[3:]), skiprows=1, sep='\\t', header=None)\n",
    "    snps = snps[snps[5]=='+']\n",
    "    \n",
    "    for index, row in hotspots.iterrows():\n",
    "        \n",
    "        # Grab the hotspot sequence and the corresponding states\n",
    "        start, end, length = row['Start'], row['End'], row['Width(kb) '] \n",
    "        \n",
    "        # Randomly choose one\n",
    "        if length != 1:\n",
    "            start = random.randint(start, end-1000)\n",
    "            end = start + 1000\n",
    "        \n",
    "        # divide_chunks(1d array, 1000) to split the data into intervals of 1000\n",
    "        # for i, j, k, l, m in zip(nucleot|ide, h3k1, h3k4, h3k36, dna):\n",
    "        if end < len(seq):\n",
    "            nucleotide = get_nucleotides(seq, start, end)\n",
    "            marks = [flatten(mark, start, end) for mark in chromatin_marks]\n",
    "            dna = [flatten(dna, start, end) for dna in dnase]\n",
    "            snp = [flatten(snps, start, end)]\n",
    "\n",
    "            # We do not want broken sequences\n",
    "            if 'N' not in nucleotide:\n",
    "                data.append(np.hstack((one_hot_encode(nucleotide), np.array(marks+snp+dna).T)))\n",
    "\n",
    "            percent = len(data) / len(hotspots)\n",
    "            drawProgressBar(percent, barLen = 20)\n",
    "            \n",
    "    return data"
   ]
  },
  {
   "cell_type": "code",
   "execution_count": 8,
   "metadata": {},
   "outputs": [],
   "source": [
    "def create_data(chromosome, chromatin_marks, dnase):\n",
    "    hotspots, coldspots = make_spot(chromosome)\n",
    "    \n",
    "    hotspot_data = get_data(chromosome, hotspots, chromatin_marks, dnase)\n",
    "    with open(\"data/spots/\"+chromosome+\"_hotspot_data.pickle\", \"wb\") as fp: \n",
    "        pickle.dump(hotspot_data, fp)\n",
    "        \n",
    "    coldspot_data = get_data(chromosome, coldspots, chromatin_marks, dnase)\n",
    "    with open(\"data/spots/\"+chromosome+\"_coldspot_data.pickle\", \"wb\") as fp: \n",
    "        pickle.dump(coldspot_data, fp)"
   ]
  },
  {
   "cell_type": "code",
   "execution_count": null,
   "metadata": {},
   "outputs": [
    {
     "name": "stdout",
     "output_type": "stream",
     "text": [
      "10\n",
      "[=================   ] 88%%"
     ]
    }
   ],
   "source": [
    "for i in range(10, 11):\n",
    "    print(i)\n",
    "    create_data('chr'+str(i), chromatin_marks, dnase)"
   ]
  },
  {
   "cell_type": "code",
   "execution_count": null,
   "metadata": {},
   "outputs": [],
   "source": []
  }
 ],
 "metadata": {
  "kernelspec": {
   "display_name": "Python 3",
   "language": "python",
   "name": "python3"
  },
  "language_info": {
   "codemirror_mode": {
    "name": "ipython",
    "version": 3
   },
   "file_extension": ".py",
   "mimetype": "text/x-python",
   "name": "python",
   "nbconvert_exporter": "python",
   "pygments_lexer": "ipython3",
   "version": "3.7.5"
  }
 },
 "nbformat": 4,
 "nbformat_minor": 2
}
