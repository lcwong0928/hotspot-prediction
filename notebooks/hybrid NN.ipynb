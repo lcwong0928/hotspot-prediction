{
 "cells": [
  {
   "cell_type": "code",
   "execution_count": 2,
   "metadata": {},
   "outputs": [],
   "source": [
    "import tensorflow as tf\n",
    "from tensorflow import keras\n",
    "from sklearn import metrics\n",
    "import pickle\n",
    "from tensorflow import keras\n",
    "from keras.regularizers import l2\n",
    "from keras.layers.normalization import BatchNormalization\n",
    "from keras.layers.convolutional_recurrent import ConvLSTM2D\n",
    "from keras.models import Sequential\n",
    "from keras.layers import Dense, Dropout, Activation, Flatten, TimeDistributed\n",
    "from keras.layers import Embedding\n",
    "from keras.layers import Conv1D, Conv2D, GlobalAveragePooling1D, MaxPooling1D, Bidirectional, LSTM, MaxPooling2D, MaxPooling3D, AveragePooling2D\n",
    "from keras.regularizers import l2\n",
    "import matplotlib.pyplot as plt\n",
    "import random\n",
    "import numpy as np\n",
    "from sklearn.model_selection import train_test_split\n",
    "from matplotlib import pyplot as plt\n",
    "from sklearn.metrics import mean_squared_error as MSE"
   ]
  },
  {
   "cell_type": "code",
   "execution_count": 8,
   "metadata": {},
   "outputs": [],
   "source": [
    "def load_spots(chromosome):\n",
    "    with open(\"data/\"+chromosome+\"_hotspot_data.pickle\", \"rb\") as fp:\n",
    "         hotspot_data = pickle.load(fp)\n",
    "    with open(\"data/\"+chromosome+\"_coldspot_data.pickle\", \"rb\") as fp:\n",
    "         coldspot_data = pickle.load(fp)\n",
    "    return hotspot_data, coldspot_data\n",
    "\n",
    "def create_dataset(hotspots, coldspots, only_seq=False, flatten=False):\n",
    "    X, y = [], []\n",
    "    for row in hotspots:\n",
    "        if only_seq: row = row[:, :4]\n",
    "        #if only_seq: row = np.concatenate((row[:, :4], row[:, [5]]),axis=1)\n",
    "        if flatten: row = row.flatten()\n",
    "        X.append(row)\n",
    "        y.append(1)\n",
    "    \n",
    "    for row in coldspots:\n",
    "        if only_seq: row = row[:, :4]\n",
    "        #if only_seq: row = np.concatenate((row[:, :4], row[:, [5]]),axis=1)\n",
    "        if flatten: row = row.flatten()\n",
    "        X.append(row)\n",
    "        y.append(0)\n",
    "    \n",
    "    return X, y"
   ]
  },
  {
   "cell_type": "code",
   "execution_count": 6,
   "metadata": {},
   "outputs": [],
   "source": [
    "def get_data(chromosomes):\n",
    "    hotspots, coldspots = [], []\n",
    "    for chromosome in chromosomes:\n",
    "        hotspot, coldspot = load_spots(chromosome)\n",
    "        hotspots+=hotspot\n",
    "        coldspots+=coldspot\n",
    "    return hotspots, coldspots"
   ]
  },
  {
   "cell_type": "code",
   "execution_count": 85,
   "metadata": {},
   "outputs": [],
   "source": [
    "train_chromosomes = ['chr{}'.format(i) for i in range(1, 11, 2)]\n",
    "train_hotspot, train_coldspot = get_data(train_chromosomes)\n",
    "\n",
    "test_chromosomes = ['chr{}'.format(i) for i in range(11, 12)]\n",
    "test_hotspot, test_coldspot = get_data(test_chromosomes)"
   ]
  },
  {
   "cell_type": "code",
   "execution_count": 84,
   "metadata": {},
   "outputs": [],
   "source": [
    "data, labels = [], []\n",
    "# for i in range(17, 18):\n",
    "#     hotspots, coldspots = load_spots('chr'+str(i))\n",
    "X, y = create_dataset(train_hotspot, train_coldspot, only_seq = False, flatten=False)\n",
    "data += X\n",
    "labels += y\n",
    "    "
   ]
  },
  {
   "cell_type": "code",
   "execution_count": 48,
   "metadata": {},
   "outputs": [
    {
     "name": "stdout",
     "output_type": "stream",
     "text": [
      "36701\n"
     ]
    }
   ],
   "source": [
    "print(len(y_train))"
   ]
  },
  {
   "cell_type": "code",
   "execution_count": 65,
   "metadata": {},
   "outputs": [
    {
     "name": "stdout",
     "output_type": "stream",
     "text": [
      "(37072, 8000)\n",
      "(37072,)\n"
     ]
    }
   ],
   "source": [
    "#data = np.array(data).reshape(296576000, 1000, 8, 1)\n",
    "data = np.asarray(data)\n",
    "labels = np.array(labels)\n",
    "print(data.shape)\n",
    "print(labels.shape)"
   ]
  },
  {
   "cell_type": "code",
   "execution_count": 66,
   "metadata": {},
   "outputs": [
    {
     "name": "stdout",
     "output_type": "stream",
     "text": [
      "_________________________________________________________________\n",
      "Layer (type)                 Output Shape              Param #   \n",
      "=================================================================\n",
      "dense_5 (Dense)              (None, 1)                 8001      \n",
      "=================================================================\n",
      "Total params: 8,001\n",
      "Trainable params: 8,001\n",
      "Non-trainable params: 0\n",
      "_________________________________________________________________\n"
     ]
    }
   ],
   "source": [
    "#, kernel_regularizer=l2(0.001)\n",
    "model = Sequential()\n",
    "\n",
    "model.add(Conv1D(50, 25, activation='relu', input_shape=(1000,4)))\n",
    "model.add(MaxPooling1D(3))\n",
    "model.add(Conv1D(50, 25,activation='relu'))\n",
    "model.add(MaxPooling1D(3))\n",
    "model.add(Bidirectional(LSTM(50, return_sequences=True, dropout=0.2, recurrent_dropout=0.1)))\n",
    "model.add(GlobalAveragePooling1D())\n",
    "model.add(Dropout(0.1))\n",
    "model.add(Dense(1, activation='sigmoid'))\n",
    "\n",
    "#model.add(Dense(1, activation='sigmoid', input_shape = (8000,))) # <--for the simple NN\n",
    "model.summary()"
   ]
  },
  {
   "cell_type": "code",
   "execution_count": 67,
   "metadata": {},
   "outputs": [
    {
     "name": "stdout",
     "output_type": "stream",
     "text": [
      "[1 0 1 0 1 0 0 0 1 1]\n"
     ]
    }
   ],
   "source": [
    "x_train, x_test, y_train, y_test = train_test_split(data, labels, train_size = 0.99, test_size=0.01, random_state = 0)\n",
    "\n",
    "print(y_train[0:10])"
   ]
  },
  {
   "cell_type": "code",
   "execution_count": 68,
   "metadata": {},
   "outputs": [
    {
     "name": "stdout",
     "output_type": "stream",
     "text": [
      "Train on 29360 samples, validate on 7341 samples\n",
      "Epoch 1/15\n",
      "29360/29360 [==============================] - 8s 272us/step - loss: 0.5847 - acc: 0.6953 - val_loss: 0.6150 - val_acc: 0.6799\n",
      "Epoch 2/15\n",
      "29360/29360 [==============================] - 2s 65us/step - loss: 0.5394 - acc: 0.7347 - val_loss: 0.5970 - val_acc: 0.6889\n",
      "Epoch 3/15\n",
      "29360/29360 [==============================] - 2s 65us/step - loss: 0.5231 - acc: 0.7456 - val_loss: 0.6136 - val_acc: 0.6883\n",
      "Epoch 4/15\n",
      "29360/29360 [==============================] - 2s 65us/step - loss: 0.5194 - acc: 0.7491 - val_loss: 0.6207 - val_acc: 0.6830\n",
      "Epoch 5/15\n",
      "29360/29360 [==============================] - 2s 65us/step - loss: 0.5103 - acc: 0.7520 - val_loss: 0.6446 - val_acc: 0.6846\n",
      "Epoch 6/15\n",
      "29360/29360 [==============================] - 2s 65us/step - loss: 0.5066 - acc: 0.7559 - val_loss: 0.6623 - val_acc: 0.6740\n",
      "Epoch 7/15\n",
      "29360/29360 [==============================] - 2s 65us/step - loss: 0.5053 - acc: 0.7553 - val_loss: 0.6934 - val_acc: 0.6717\n",
      "Epoch 8/15\n",
      "29360/29360 [==============================] - 2s 65us/step - loss: 0.5005 - acc: 0.7584 - val_loss: 0.6655 - val_acc: 0.6720\n",
      "Epoch 9/15\n",
      "29360/29360 [==============================] - 2s 65us/step - loss: 0.5049 - acc: 0.7575 - val_loss: 0.6699 - val_acc: 0.6648\n",
      "Epoch 10/15\n",
      "29360/29360 [==============================] - 2s 65us/step - loss: 0.5029 - acc: 0.7571 - val_loss: 0.6645 - val_acc: 0.6777\n",
      "Epoch 11/15\n",
      "29360/29360 [==============================] - 2s 65us/step - loss: 0.4979 - acc: 0.7610 - val_loss: 0.6669 - val_acc: 0.6739\n",
      "Epoch 12/15\n",
      "29360/29360 [==============================] - 2s 66us/step - loss: 0.4974 - acc: 0.7615 - val_loss: 0.6698 - val_acc: 0.6758\n",
      "Epoch 13/15\n",
      "29360/29360 [==============================] - 2s 65us/step - loss: 0.4978 - acc: 0.7602 - val_loss: 0.6948 - val_acc: 0.6698\n",
      "Epoch 14/15\n",
      "29360/29360 [==============================] - 2s 65us/step - loss: 0.4953 - acc: 0.7621 - val_loss: 0.6812 - val_acc: 0.6638\n",
      "Epoch 15/15\n",
      "29360/29360 [==============================] - 2s 65us/step - loss: 0.4973 - acc: 0.7619 - val_loss: 0.6765 - val_acc: 0.6723\n"
     ]
    }
   ],
   "source": [
    "\n",
    "callbacks_list = [\n",
    "    keras.callbacks.ModelCheckpoint(\n",
    "        filepath='best_model.{epoch:02d}-{val_loss:.2f}.h5',\n",
    "        monitor='val_loss', save_best_only=True),\n",
    "    keras.callbacks.EarlyStopping(monitor='val_acc', patience=1)\n",
    "]\n",
    "\n",
    "model.compile(loss='binary_crossentropy', optimizer='adam', metrics=['accuracy'])\n",
    "history = model.fit(x_train, y_train, validation_split=0.2, batch_size=100, epochs=15)"
   ]
  },
  {
   "cell_type": "code",
   "execution_count": 1,
   "metadata": {},
   "outputs": [
    {
     "name": "stderr",
     "output_type": "stream",
     "text": [
      "Using TensorFlow backend.\n"
     ]
    }
   ],
   "source": [
    "from keras.models import load_model\n",
    "\n",
    "#model.save('CRNN_4param.h5')  # creates a HDF5 file 'my_model.h5'\n",
    "#del model  # deletes the existing model\n",
    "\n",
    "# returns a compiled model\n",
    "# identical to the previous one\n",
    "model = load_model('CRNN.h5')"
   ]
  },
  {
   "cell_type": "code",
   "execution_count": 89,
   "metadata": {},
   "outputs": [],
   "source": [
    "chromosome='chr11'\n",
    "with open(\"data/\"+chromosome+\"_hotspot_data.pickle\", \"rb\") as fp:\n",
    "    midspot_data = pickle.load(fp)"
   ]
  },
  {
   "cell_type": "code",
   "execution_count": 3,
   "metadata": {},
   "outputs": [
    {
     "ename": "NameError",
     "evalue": "name 'history' is not defined",
     "output_type": "error",
     "traceback": [
      "\u001b[0;31m---------------------------------------------------------------------------\u001b[0m",
      "\u001b[0;31mNameError\u001b[0m                                 Traceback (most recent call last)",
      "\u001b[0;32m<ipython-input-3-8054e46cd284>\u001b[0m in \u001b[0;36m<module>\u001b[0;34m\u001b[0m\n\u001b[1;32m      1\u001b[0m \u001b[0mplt\u001b[0m\u001b[0;34m.\u001b[0m\u001b[0mrcParams\u001b[0m\u001b[0;34m[\u001b[0m\u001b[0;34m'figure.figsize'\u001b[0m\u001b[0;34m]\u001b[0m\u001b[0;34m=\u001b[0m\u001b[0;34m(\u001b[0m\u001b[0;36m35\u001b[0m\u001b[0;34m,\u001b[0m\u001b[0;36m10\u001b[0m\u001b[0;34m)\u001b[0m\u001b[0;34m\u001b[0m\u001b[0;34m\u001b[0m\u001b[0m\n\u001b[0;32m----> 2\u001b[0;31m \u001b[0mplt\u001b[0m\u001b[0;34m.\u001b[0m\u001b[0mplot\u001b[0m\u001b[0;34m(\u001b[0m\u001b[0mhistory\u001b[0m\u001b[0;34m.\u001b[0m\u001b[0mhistory\u001b[0m\u001b[0;34m[\u001b[0m\u001b[0;34m'acc'\u001b[0m\u001b[0;34m]\u001b[0m\u001b[0;34m,\u001b[0m\u001b[0mcolor\u001b[0m\u001b[0;34m=\u001b[0m\u001b[0;34m'k'\u001b[0m\u001b[0;34m,\u001b[0m\u001b[0mlinestyle\u001b[0m\u001b[0;34m=\u001b[0m\u001b[0;34m(\u001b[0m\u001b[0;36m0\u001b[0m\u001b[0;34m,\u001b[0m\u001b[0;34m(\u001b[0m\u001b[0;36m5\u001b[0m\u001b[0;34m,\u001b[0m\u001b[0;36m10\u001b[0m\u001b[0;34m)\u001b[0m\u001b[0;34m)\u001b[0m\u001b[0;34m)\u001b[0m\u001b[0;34m\u001b[0m\u001b[0;34m\u001b[0m\u001b[0m\n\u001b[0m\u001b[1;32m      3\u001b[0m \u001b[0mplt\u001b[0m\u001b[0;34m.\u001b[0m\u001b[0mplot\u001b[0m\u001b[0;34m(\u001b[0m\u001b[0mhistory\u001b[0m\u001b[0;34m.\u001b[0m\u001b[0mhistory\u001b[0m\u001b[0;34m[\u001b[0m\u001b[0;34m'val_acc'\u001b[0m\u001b[0;34m]\u001b[0m\u001b[0;34m,\u001b[0m\u001b[0mcolor\u001b[0m\u001b[0;34m=\u001b[0m\u001b[0;34m'k'\u001b[0m\u001b[0;34m)\u001b[0m\u001b[0;34m\u001b[0m\u001b[0;34m\u001b[0m\u001b[0m\n\u001b[1;32m      4\u001b[0m \u001b[0mplt\u001b[0m\u001b[0;34m.\u001b[0m\u001b[0mtitle\u001b[0m\u001b[0;34m(\u001b[0m\u001b[0;34m'model accuracy'\u001b[0m\u001b[0;34m,\u001b[0m\u001b[0mfontsize\u001b[0m\u001b[0;34m=\u001b[0m\u001b[0;36m30\u001b[0m\u001b[0;34m)\u001b[0m\u001b[0;34m\u001b[0m\u001b[0;34m\u001b[0m\u001b[0m\n\u001b[1;32m      5\u001b[0m \u001b[0mplt\u001b[0m\u001b[0;34m.\u001b[0m\u001b[0myticks\u001b[0m\u001b[0;34m(\u001b[0m\u001b[0mfontsize\u001b[0m\u001b[0;34m=\u001b[0m\u001b[0;36m26\u001b[0m\u001b[0;34m)\u001b[0m\u001b[0;34m\u001b[0m\u001b[0;34m\u001b[0m\u001b[0m\n",
      "\u001b[0;31mNameError\u001b[0m: name 'history' is not defined"
     ]
    }
   ],
   "source": [
    "plt.rcParams['figure.figsize']=(35,10)\n",
    "plt.plot(history.history['acc'],color='k',linestyle=(0,(5,10)))\n",
    "plt.plot(history.history['val_acc'],color='k')\n",
    "plt.title('model accuracy',fontsize=30)\n",
    "plt.yticks(fontsize=26)\n",
    "plt.xticks(fontsize=26)\n",
    "plt.ylabel('accuracy',fontsize=30)\n",
    "plt.xlabel('epoch',fontsize=30)\n",
    "plt.legend(['train', 'val'], loc='lower right',prop={'size': 30})\n",
    "plt.show()\n",
    "\n",
    "plt.plot(history.history['loss'],color='k',linestyle=(0,(5,10)))\n",
    "plt.plot(history.history['val_loss'],color='k')\n",
    "plt.title('model loss',fontsize=30)\n",
    "plt.yticks(fontsize=26)\n",
    "plt.xticks(fontsize=26)\n",
    "plt.ylabel('loss',fontsize=30)\n",
    "plt.xlabel('epoch',fontsize=30)\n",
    "plt.legend(['train', 'val'], loc='upper right',prop={'size': 30})\n",
    "plt.show()"
   ]
  },
  {
   "cell_type": "code",
   "execution_count": 87,
   "metadata": {},
   "outputs": [],
   "source": [
    "#create testing set from chr11\n",
    "data, labels = [], []\n",
    "# for i in range(17, 18):\n",
    "#     hotspots, coldspots = load_spots('chr'+str(i))\n",
    "X, y = create_dataset(test_hotspot, test_coldspot, only_seq = False, flatten=False)\n",
    "data += X\n",
    "labels += y\n",
    "x_test = np.asarray(data)\n",
    "y_test = np.asarray(labels)"
   ]
  },
  {
   "cell_type": "code",
   "execution_count": 88,
   "metadata": {},
   "outputs": [
    {
     "name": "stdout",
     "output_type": "stream",
     "text": [
      "6487/6487 [==============================] - 15s 2ms/step\n",
      "['loss', 'acc']\n",
      "[0.5521755105397615, 0.7226761236054073]\n"
     ]
    }
   ],
   "source": [
    "score = model.evaluate(x_test, y_test, batch_size=100)\n",
    "print(model.metrics_names)\n",
    "print(score)"
   ]
  },
  {
   "cell_type": "code",
   "execution_count": 90,
   "metadata": {},
   "outputs": [],
   "source": [
    "midspot_data = np.asarray(midspot_data)"
   ]
  },
  {
   "cell_type": "code",
   "execution_count": 79,
   "metadata": {},
   "outputs": [],
   "source": [
    "ypred = model.predict(midspot_data)"
   ]
  },
  {
   "cell_type": "code",
   "execution_count": 80,
   "metadata": {},
   "outputs": [],
   "source": [
    "with open(\"slidepredicts11Mid.txt\", \"wb\") as fp: \n",
    "    pickle.dump(ypred, fp)"
   ]
  },
  {
   "cell_type": "code",
   "execution_count": 425,
   "metadata": {},
   "outputs": [],
   "source": [
    "#sort predictions according to labels\n",
    "zp = []\n",
    "op = []\n",
    "zt = []\n",
    "ot = []\n",
    "ypred = ypred.flatten()\n",
    "for i in range(len(ypred)):\n",
    "    if(y_test[i]==0):\n",
    "        zt.append(0)\n",
    "        zp.append(ypred[i])\n",
    "    else:\n",
    "        ot.append(1)\n",
    "        op.append(ypred[i])\n",
    "op = op + zp\n",
    "ot = ot + zt"
   ]
  },
  {
   "cell_type": "code",
   "execution_count": 426,
   "metadata": {
    "scrolled": true
   },
   "outputs": [
    {
     "data": {
      "image/png": "[encoded data removed]",
      "text/plain": [
       "<Figure size 2520x720 with 1 Axes>"
      ]
     },
     "metadata": {
      "needs_background": "light"
     },
     "output_type": "display_data"
    }
   ],
   "source": [
    "#plot sorted\n",
    "xrange = [i for i in range(len(ypred))]\n",
    "plt.rcParams['figure.figsize']=(35,10) \n",
    "plt.title('Sorted Probabilities',fontsize=30)\n",
    "plt.ylabel('Probabilities',fontsize=30)\n",
    "plt.yticks(fontsize=26)\n",
    "plt.xticks(fontsize=26)\n",
    "plt.bar(xrange, op, color = 'k')\n",
    "plt.bar(xrange, ot, color = '0.75',alpha = 0.6)\n",
    "plt.show()\n",
    "\n"
   ]
  },
  {
   "cell_type": "code",
   "execution_count": 427,
   "metadata": {},
   "outputs": [
    {
     "data": {
      "image/png": "[encoded data removed]",
      "text/plain": [
       "<Figure size 2520x720 with 1 Axes>"
      ]
     },
     "metadata": {
      "needs_background": "light"
     },
     "output_type": "display_data"
    }
   ],
   "source": [
    "#plot unsorted\n",
    "plt.rcParams['figure.figsize']=(35,10)   \n",
    "plt.title('Unsorted Probabilities',fontsize=30)\n",
    "plt.ylabel('Probabilities',fontsize=30)\n",
    "plt.bar(xrange, ypred, color = 'k')\n",
    "plt.yticks(fontsize=26)\n",
    "plt.xticks(fontsize=26)\n",
    "plt.bar(xrange, y_test, color = '0.75',alpha = 0.6)\n",
    "plt.show()"
   ]
  },
  {
   "cell_type": "code",
   "execution_count": 304,
   "metadata": {},
   "outputs": [],
   "source": [
    "slidedata, slidelabels = [], []\n",
    "for i in range(1, 2):\n",
    "    hotspots, coldspots = load_spots('chr'+str(i))\n",
    "    X, y = create_dataset(hotspots, coldspots, only_seq = False, flatten=False)\n",
    "    slidedata += X\n",
    "    slidelabels += y\n",
    "    "
   ]
  },
  {
   "cell_type": "code",
   "execution_count": 305,
   "metadata": {},
   "outputs": [
    {
     "name": "stdout",
     "output_type": "stream",
     "text": [
      "(3300, 1000, 8)\n",
      "(3300,)\n"
     ]
    }
   ],
   "source": [
    "data = np.asarray(data)\n",
    "labels = np.array(labels)\n",
    "print(data.shape)\n",
    "print(labels.shape)"
   ]
  },
  {
   "cell_type": "code",
   "execution_count": 306,
   "metadata": {},
   "outputs": [
    {
     "name": "stdout",
     "output_type": "stream",
     "text": [
      "[1 1 1 ... 0 0 0]\n"
     ]
    }
   ],
   "source": [
    "print(labels)"
   ]
  },
  {
   "cell_type": "code",
   "execution_count": null,
   "metadata": {},
   "outputs": [],
   "source": []
  }
 ],
 "metadata": {
  "kernelspec": {
   "display_name": "Python 3.6 (cf-tensorflow-keras)",
   "language": "python",
   "name": "cf"
  },
  "language_info": {
   "codemirror_mode": {
    "name": "ipython",
    "version": 3
   },
   "file_extension": ".py",
   "mimetype": "text/x-python",
   "name": "python",
   "nbconvert_exporter": "python",
   "pygments_lexer": "ipython3",
   "version": "3.6.8"
  }
 },
 "nbformat": 4,
 "nbformat_minor": 2
}
